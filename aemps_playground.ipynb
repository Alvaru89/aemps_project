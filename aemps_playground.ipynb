{
 "cells": [
  {
   "cell_type": "code",
   "execution_count": 1,
   "metadata": {},
   "outputs": [],
   "source": [
    "import requests\n",
    "from bs4 import BeautifulSoup"
   ]
  },
  {
   "cell_type": "code",
   "execution_count": 24,
   "metadata": {},
   "outputs": [
    {
     "name": "stdout",
     "output_type": "stream",
     "text": [
      "[0, 0, 0, 0, 0, 0, 0, 0, 0, 0, 1]\n"
     ]
    }
   ],
   "source": [
    "code=65747\n",
    "FT_link=f\"https://cima.aemps.es/cima/dochtml/ft/{code}/FT_{code}.html\"\n",
    "keywords=['gluten', 'trigo','cebada','avena','cebada','triticale', 'centeno',\n",
    "                  'celíac', 'celiac','celiaq']\n",
    "status=[]\n",
    "sopa_FT=BeautifulSoup(requests.get(FT_link,timeout=20).content, 'html.parser')\n",
    "\n",
    "for key in keywords:    \n",
    "    status.append(int(key in str(sopa_FT).lower()))\n",
    "    \n",
    "print(status)"
   ]
  },
  {
   "cell_type": "code",
   "execution_count": null,
   "metadata": {},
   "outputs": [],
   "source": []
  }
 ],
 "metadata": {
  "kernelspec": {
   "display_name": "Python [conda env:ironhack_env]",
   "language": "python",
   "name": "conda-env-ironhack_env-py"
  },
  "language_info": {
   "codemirror_mode": {
    "name": "ipython",
    "version": 3
   },
   "file_extension": ".py",
   "mimetype": "text/x-python",
   "name": "python",
   "nbconvert_exporter": "python",
   "pygments_lexer": "ipython3",
   "version": "3.8.5"
  }
 },
 "nbformat": 4,
 "nbformat_minor": 4
}
